{
 "cells": [
  {
   "cell_type": "markdown",
   "id": "cc0d731c",
   "metadata": {},
   "source": [
    "# Phase 1 "
   ]
  },
  {
   "cell_type": "code",
   "execution_count": 13,
   "id": "96c95625",
   "metadata": {},
   "outputs": [
    {
     "name": "stdout",
     "output_type": "stream",
     "text": [
      "loaded 28613 records\n",
      "running on a small sample of 3000 records for testing\n"
     ]
    }
   ],
   "source": [
    "import pandas as pd\n",
    "import torch\n",
    "from transformers import AutoTokenizer, AutoModelForSequenceClassification, Trainer, TrainingArguments\n",
    "from sklearn.model_selection import train_test_split\n",
    "from utils import CircuitDataset\n",
    "\n",
    "column_names = [\"Cause\", \"Action\"]\n",
    "df = pd.read_csv(\"../../data/combined_data.csv\", header = None, names= column_names)\n",
    "print(f\"loaded {len(df)} records\")\n",
    "\n",
    "df['Action'] = df['Action'].fillna('')\n",
    "df = df.sample( n = 3000, random_state = 42).reset_index(drop = True)\n",
    "print(f\"running on a small sample of {len(df)} records for testing\")"
   ]
  },
  {
   "cell_type": "code",
   "execution_count": 14,
   "id": "4c397463",
   "metadata": {},
   "outputs": [
    {
     "name": "stdout",
     "output_type": "stream",
     "text": [
      "labels encoded\n",
      "Mapping: {'Isolation irregularity': 0, 'No fault found': 1, 'Suspect bird strike': 2, 'Overload (class 90)': 3, 'Ole equipment failure': 4, 'Animals incursion': 5, 'Bird strike': 6, 'Operational error': 7, 'Overload': 8, 'Historic fault closed': 9, 'Other discipline/ third party': 10, 'Suspect vegetation': 11, 'Suspect faulty train unit': 12, 'Foreign object': 13, 'Distribution': 14, 'Vegetation': 15, 'Weather': 16, 'Faulty train unit': 17, 'Bird nest': 18, 'Insulator': 19, 'Water ingress': 20, 'Miscellaneous': 21, 'Icicles': 22}\n"
     ]
    }
   ],
   "source": [
    "unique_cases = df[\"Cause\"].unique().tolist()\n",
    "\n",
    "label2id = {label: i for i, label in enumerate(unique_cases)}\n",
    "id2label = {i: label for i, label in enumerate(unique_cases)}\n",
    "\n",
    "df[\"Labels\"] = df[\"Cause\"].map(label2id)\n",
    "\n",
    "print(\"labels encoded\")\n",
    "print(f\"Mapping: {label2id}\")"
   ]
  },
  {
   "cell_type": "code",
   "execution_count": 15,
   "id": "6cf37770",
   "metadata": {},
   "outputs": [
    {
     "name": "stdout",
     "output_type": "stream",
     "text": [
      "training set size: 2400\n",
      "Validation set size: 300\n",
      "Test set size: 300\n"
     ]
    }
   ],
   "source": [
    "\n",
    "\n",
    "train_df, temp_df = train_test_split(\n",
    "    df,\n",
    "    test_size = 0.2,\n",
    "    random_state= 42,\n",
    "    stratify= df[\"Labels\"]\n",
    ")\n",
    "\n",
    "val_df, test_df = train_test_split(\n",
    "    temp_df,\n",
    "    test_size= 0.5,\n",
    "    random_state= 42,\n",
    "    stratify= temp_df[\"Labels\"]\n",
    ")\n",
    "print( f\"training set size: {len(train_df)}\")\n",
    "print(f\"Validation set size: {len(val_df)}\")\n",
    "print(f\"Test set size: {len(test_df)}\")"
   ]
  },
  {
   "cell_type": "markdown",
   "id": "b2d339ec",
   "metadata": {},
   "source": [
    "# Phase 2\n"
   ]
  },
  {
   "cell_type": "markdown",
   "id": "49bd9bed",
   "metadata": {},
   "source": [
    "# tokensation"
   ]
  },
  {
   "cell_type": "code",
   "execution_count": 16,
   "id": "19b87fe6",
   "metadata": {},
   "outputs": [
    {
     "name": "stdout",
     "output_type": "stream",
     "text": [
      "Tokenisation complete\n"
     ]
    }
   ],
   "source": [
    "\n",
    "# load tokeniser\n",
    "MODEL_NAME = \"distilbert-base-uncased\"\n",
    "tokeniser = AutoTokenizer.from_pretrained(MODEL_NAME)\n",
    "\n",
    "# Tokenis the text from each split\n",
    "\n",
    "train_encodings = tokeniser(train_df['Action'].tolist(), truncation = True, padding = True, max_length = 128)\n",
    "val_encodings = tokeniser(val_df['Action'].tolist(), truncation = True, padding = True, max_length = 128)\n",
    "test_encodings = tokeniser(test_df['Action'].tolist(), truncation = True, padding = True, max_length = 128)\n",
    "\n",
    "print(\"Tokenisation complete\")"
   ]
  },
  {
   "cell_type": "code",
   "execution_count": null,
   "id": "7b3344ab",
   "metadata": {},
   "outputs": [
    {
     "name": "stdout",
     "output_type": "stream",
     "text": [
      "datasets created\n"
     ]
    }
   ],
   "source": [
    "train_dataset = CircuitDataset(train_encodings, train_df[\"Labels\"].tolist())\n",
    "val_dataset = CircuitDataset(val_encodings, val_df[\"Labels\"].tolist())\n",
    "test_dataset = CircuitDataset(test_encodings, test_df[\"Labels\"].tolist())\n",
    "print(\"Datasets created\")"
   ]
  }
 ],
 "metadata": {
  "kernelspec": {
   "display_name": "base",
   "language": "python",
   "name": "python3"
  },
  "language_info": {
   "codemirror_mode": {
    "name": "ipython",
    "version": 3
   },
   "file_extension": ".py",
   "mimetype": "text/x-python",
   "name": "python",
   "nbconvert_exporter": "python",
   "pygments_lexer": "ipython3",
   "version": "3.13.5"
  }
 },
 "nbformat": 4,
 "nbformat_minor": 5
}
